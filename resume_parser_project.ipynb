{
  "nbformat": 4,
  "nbformat_minor": 0,
  "metadata": {
    "colab": {
      "provenance": []
    },
    "kernelspec": {
      "name": "python3",
      "display_name": "Python 3"
    },
    "language_info": {
      "name": "python"
    }
  },
  "cells": [
    {
      "cell_type": "code",
      "execution_count": 6,
      "metadata": {
        "colab": {
          "base_uri": "https://localhost:8080/"
        },
        "id": "cWk1ImvKFiGo",
        "outputId": "f9bc5fad-b65b-4882-cb83-1eba380c9418"
      },
      "outputs": [
        {
          "output_type": "stream",
          "name": "stdout",
          "text": [
            "Requirement already satisfied: pdfminer.six in /usr/local/lib/python3.11/dist-packages (20250506)\n",
            "Requirement already satisfied: charset-normalizer>=2.0.0 in /usr/local/lib/python3.11/dist-packages (from pdfminer.six) (3.4.2)\n",
            "Requirement already satisfied: cryptography>=36.0.0 in /usr/local/lib/python3.11/dist-packages (from pdfminer.six) (43.0.3)\n",
            "Requirement already satisfied: cffi>=1.12 in /usr/local/lib/python3.11/dist-packages (from cryptography>=36.0.0->pdfminer.six) (1.17.1)\n",
            "Requirement already satisfied: pycparser in /usr/local/lib/python3.11/dist-packages (from cffi>=1.12->cryptography>=36.0.0->pdfminer.six) (2.22)\n"
          ]
        }
      ],
      "source": [
        "!pip install pdfminer.six\n",
        "\n",
        "import re\n",
        "from pdfminer.high_level import extract_text\n"
      ]
    },
    {
      "cell_type": "code",
      "source": [
        "# Replace 'your_resume.pdf' with your uploaded file name\n",
        "resume_path = \"/content/resume.pdf\"\n",
        "text = extract_text(resume_path)\n",
        "\n",
        "# Show first 1000 characters to check\n",
        "print(text[:1000])\n"
      ],
      "metadata": {
        "colab": {
          "base_uri": "https://localhost:8080/"
        },
        "id": "MfK1MCeXF62H",
        "outputId": "3d5541d6-3fec-4fff-f885-332d89dacad1"
      },
      "execution_count": 12,
      "outputs": [
        {
          "output_type": "stream",
          "name": "stdout",
          "text": [
            "Byungjin Park\n",
            "\n",
            "SiTE RELiABiLiTY ENGiNEER · SOFTWARE ARCHiTECT\n",
            "235, World Cup buk-ro, Mapo-gu, Seoul, 03936, Republic of Korea\n",
            "\n",
            "(cid:294) (+82) 10-9030-1843 | (cid:263) posquit0.bj@gmail.com | (cid:117) www.posquit0.com | (cid:94) posquit0 | (cid:93) posquit0\n",
            "\n",
            "“Be the change that you want to see in the world.”\n",
            "\n",
            "Summary\n",
            "DevOps Engineer at fintech & blockchain company Dunamu which is known for operating Upbit, the largest cryptocurrency exchange in Korea.\n",
            "Have led growth at infrastructure departments in two fintech companies as lead engineer and founding member. 12+ years of diverse software\n",
            "engineering experience with specialties in software architecture design, infrastructure operation, backend development, and security engineering.\n",
            "\n",
            "Love to contribute to open sources and tech communities by sharing knowledge and experience. Prefers a command line interface environment\n",
            "as a big fan of Vim, Linux, and macOS. Always trying to customize to find the most optimal environment. Interested in d\n"
          ]
        }
      ]
    },
    {
      "cell_type": "code",
      "source": [
        "# Extract email\n",
        "email = re.findall(r'\\S+@\\S+', text)\n",
        "\n",
        "# Extract phone numbers (Indian or US style)\n",
        "phone = re.findall(r'\\+?\\d[\\d\\-\\s]{8,13}\\d', text)\n",
        "\n",
        "# Extract possible names (simple logic)\n",
        "name = re.findall(r'([A-Z][a-z]+\\s[A-Z][a-z]+)', text)\n",
        "\n",
        "# Extract skills from keywords\n",
        "skills_list = ['Python', 'SQL', 'Excel', 'Tableau', 'Power BI', 'R', 'AWS']\n",
        "skills_found = [skill for skill in skills_list if skill.lower() in text.lower()]\n",
        "\n",
        "# Print results\n",
        "print(\"Name:\", name[0] if name else \"Not Found\")\n",
        "print(\"Email:\", email[0] if email else \"Not Found\")\n",
        "print(\"Phone:\", phone[0] if phone else \"Not Found\")\n",
        "print(\"Skills:\", skills_found)\n"
      ],
      "metadata": {
        "colab": {
          "base_uri": "https://localhost:8080/"
        },
        "id": "xD5HccxuGJJg",
        "outputId": "9eeb8f4e-da2d-4748-8231-eaddb73127d0"
      },
      "execution_count": 13,
      "outputs": [
        {
          "output_type": "stream",
          "name": "stdout",
          "text": [
            "Name: Byungjin Park\n",
            "Email: posquit0.bj@gmail.com\n",
            "Phone: 10-9030-1843\n",
            "Skills: ['R', 'AWS']\n"
          ]
        }
      ]
    },
    {
      "cell_type": "code",
      "source": [],
      "metadata": {
        "id": "7ImzLrDoPrV_"
      },
      "execution_count": null,
      "outputs": []
    }
  ]
}